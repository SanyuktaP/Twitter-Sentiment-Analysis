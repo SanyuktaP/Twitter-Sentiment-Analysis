{
 "cells": [
  {
   "cell_type": "code",
   "execution_count": null,
   "id": "1319ebcc",
   "metadata": {
    "scrolled": true
   },
   "outputs": [],
   "source": [
    "# !pip install tweepy\n",
    "# !pip install textblob\n",
    "# !pip install regex\n",
    "# !pip install wordcloud"
   ]
  },
  {
   "cell_type": "code",
   "execution_count": 32,
   "id": "73b0e62d",
   "metadata": {},
   "outputs": [],
   "source": [
    "import tweepy\n",
    "from textblob import TextBlob\n",
    "import pandas as pd\n",
    "import matplotlib.pyplot as plt\n",
    "from wordcloud import WordCloud\n",
    "plt.style.use('fivethirtyeight')"
   ]
  },
  {
   "cell_type": "code",
   "execution_count": 6,
   "id": "bcb9cf22",
   "metadata": {},
   "outputs": [],
   "source": [
    "#Twitter API Credentials\n",
    "APIKey=\"yJvB2GIYq1ELdy81qH9N4tiPh\"\n",
    "APISecretKey=\"xv3R14f3kiZvpkTkRUedjcFfUl2buo55CaTqFYUTx5iGGoyLIT\"\n",
    "accessToken=\"1262041138061426688-JEY02X8syjTOejtzSYw4duL1OXDzAC\"\n",
    "accessTokenSecret=\"RKDRY9HFdjoyW1ewk0jHx3ZjBtB4ogOppUuv7Tf1ITwge\""
   ]
  },
  {
   "cell_type": "code",
   "execution_count": 7,
   "id": "cfd8f8bf",
   "metadata": {},
   "outputs": [],
   "source": [
    "# create the authentication object\n",
    "\n",
    "authenticate=tweepy.OAuthHandler(APIKey,APISecretKey)\n",
    "authenticate.set_access_token(accessToken,accessTokenSecret)\n",
    "api=tweepy.API(authenticate)"
   ]
  },
  {
   "cell_type": "code",
   "execution_count": 8,
   "id": "330f36b3",
   "metadata": {
    "scrolled": true
   },
   "outputs": [
    {
     "name": "stderr",
     "output_type": "stream",
     "text": [
      "Unexpected parameter: lang\n"
     ]
    },
    {
     "name": "stdout",
     "output_type": "stream",
     "text": [
      "1)Here's a recap of some exciting happenings at #TCS from around the world! #ICYMI \n",
      "\n",
      "Learn more: https://t.co/fGFko2pPyZ\n",
      "\n",
      "Kantar BrandZ: https://t.co/RG6Cj0UxiU\n",
      "\n",
      "2)Our number 1 ranking in the #KantarBrandz Top 75 most valuable Indian Brands 2022 is a reflection of the trust showcased by our customers and the incredible passion and dedication of our employees!\n",
      "\n",
      "#BuildingOnBelief https://t.co/Lh4YCU1hu6\n",
      "\n",
      "3)#Sustainability is now at the heart of business strategy.\n",
      "\n",
      "Join us for this #LinkedinLive, where expert speakers will discuss key environmental and social sustainability trends within the #lifesciences and #healthcare industry: https://t.co/E4yxynZ9o2 @TCS_UKI https://t.co/BKEq0cgWo5\n",
      "\n",
      "4)“The new future-ready #digital platform built by TCS will help Penumbra drive differentiated business capabilities delivering superior user and end #customerexperiences.” - V Rajanna, Global Head, Communications, Media, and Technology Business, TCS.\n",
      "\n",
      "Read: https://t.co/2dDOtop3lN https://t.co/ThthlGgb7s\n",
      "\n",
      "5)As operators in emerging economies face significant loss of #customers and #revenue, they must develop web-native capabilities that will transform #customerexperience.\n",
      "\n",
      "Know how to overcome constraints of legacy systems &amp; processes, attend: https://t.co/H6ClPTb7Cq\n",
      "\n",
      "@MATRIXX_SW https://t.co/W3VOsHFT9o\n",
      "\n",
      "6)TCS will reimagine employee experience for Nokia' global #Workforce in more than 130 countries. With a new cloud-based #HumanCapital Management platform (HCM), TCS will help @nokia boost productivity, innovation &amp; agility among its employees. \n",
      "\n",
      "Read: https://t.co/IJ7lIWkU04 https://t.co/EnFnRmkRMy\n",
      "\n",
      "7)From social stigma to stories of hope!\n",
      "We partnered with a pharma company in Mexico to raise #CancerAwareness by leveraging tech to share success stories and bridge the gap between pharma companies, HCPs, and patients.\n",
      "\n",
      "Know more: https://t.co/lUNvxCIPAn https://t.co/V4ymF4QbcE\n",
      "\n",
      "8)@chahatgarg143 Hi Chahat, this isn't an authorized communication from our recruitment team. If you're interested in working with TCS, do visit https://t.co/bE6esUSiGV\n",
      "\n",
      "9)We aim to rationalize the product line, innovate at speed and scale, and launch new #products faster for #pharmaceutical companies and #medical devices.\n",
      "\n",
      "Read more: https://t.co/1jAQoL2m46 https://t.co/ss9MVVwnLi\n",
      "\n",
      "10)Leveraging TCS HOBS™ and its future proof #agile architecture, we are set to help @CommunityFibre in its mission to bring faster #internet services to more homes in the UK.\n",
      "\n",
      "Read more: https://t.co/dRoPSAQrcV https://t.co/wVfCUSFnDk\n",
      "\n"
     ]
    }
   ],
   "source": [
    "#get the data\n",
    "\n",
    "posts=api.user_timeline(screen_name=\"tcs\",count=100,lang=\"en\",tweet_mode='extended')\n",
    "i=1\n",
    "for tweet in posts[:10]:\n",
    "    print(str(i)+')'+tweet.full_text+'\\n')\n",
    "    i+=1"
   ]
  },
  {
   "cell_type": "code",
   "execution_count": 9,
   "id": "6738e309",
   "metadata": {},
   "outputs": [],
   "source": [
    "#create dataframe with column called tweets\n",
    "df=pd.DataFrame([tweet.full_text for tweet in posts],columns=['Tweets'])"
   ]
  },
  {
   "cell_type": "code",
   "execution_count": 10,
   "id": "e51a6881",
   "metadata": {},
   "outputs": [
    {
     "data": {
      "text/html": [
       "<div>\n",
       "<style scoped>\n",
       "    .dataframe tbody tr th:only-of-type {\n",
       "        vertical-align: middle;\n",
       "    }\n",
       "\n",
       "    .dataframe tbody tr th {\n",
       "        vertical-align: top;\n",
       "    }\n",
       "\n",
       "    .dataframe thead th {\n",
       "        text-align: right;\n",
       "    }\n",
       "</style>\n",
       "<table border=\"1\" class=\"dataframe\">\n",
       "  <thead>\n",
       "    <tr style=\"text-align: right;\">\n",
       "      <th></th>\n",
       "      <th>Tweets</th>\n",
       "    </tr>\n",
       "  </thead>\n",
       "  <tbody>\n",
       "    <tr>\n",
       "      <th>0</th>\n",
       "      <td>Here's a recap of some exciting happenings at ...</td>\n",
       "    </tr>\n",
       "    <tr>\n",
       "      <th>1</th>\n",
       "      <td>Our number 1 ranking in the #KantarBrandz Top ...</td>\n",
       "    </tr>\n",
       "    <tr>\n",
       "      <th>2</th>\n",
       "      <td>#Sustainability is now at the heart of busines...</td>\n",
       "    </tr>\n",
       "    <tr>\n",
       "      <th>3</th>\n",
       "      <td>“The new future-ready #digital platform built ...</td>\n",
       "    </tr>\n",
       "    <tr>\n",
       "      <th>4</th>\n",
       "      <td>As operators in emerging economies face signif...</td>\n",
       "    </tr>\n",
       "    <tr>\n",
       "      <th>...</th>\n",
       "      <td>...</td>\n",
       "    </tr>\n",
       "    <tr>\n",
       "      <th>95</th>\n",
       "      <td>Download links for #TCSQ1 FY 23:\\nIFRS (USD): ...</td>\n",
       "    </tr>\n",
       "    <tr>\n",
       "      <th>96</th>\n",
       "      <td>Won two @GoogleCloud Partner of the Year 2021 ...</td>\n",
       "    </tr>\n",
       "    <tr>\n",
       "      <th>97</th>\n",
       "      <td>Won three 2022 @Microsoft Partner of the Year ...</td>\n",
       "    </tr>\n",
       "    <tr>\n",
       "      <th>98</th>\n",
       "      <td>Recognized as the Information Technology Secto...</td>\n",
       "    </tr>\n",
       "    <tr>\n",
       "      <th>99</th>\n",
       "      <td>Named as one of the top 50 community-minded co...</td>\n",
       "    </tr>\n",
       "  </tbody>\n",
       "</table>\n",
       "<p>100 rows × 1 columns</p>\n",
       "</div>"
      ],
      "text/plain": [
       "                                               Tweets\n",
       "0   Here's a recap of some exciting happenings at ...\n",
       "1   Our number 1 ranking in the #KantarBrandz Top ...\n",
       "2   #Sustainability is now at the heart of busines...\n",
       "3   “The new future-ready #digital platform built ...\n",
       "4   As operators in emerging economies face signif...\n",
       "..                                                ...\n",
       "95  Download links for #TCSQ1 FY 23:\\nIFRS (USD): ...\n",
       "96  Won two @GoogleCloud Partner of the Year 2021 ...\n",
       "97  Won three 2022 @Microsoft Partner of the Year ...\n",
       "98  Recognized as the Information Technology Secto...\n",
       "99  Named as one of the top 50 community-minded co...\n",
       "\n",
       "[100 rows x 1 columns]"
      ]
     },
     "execution_count": 10,
     "metadata": {},
     "output_type": "execute_result"
    }
   ],
   "source": [
    "df"
   ]
  },
  {
   "cell_type": "code",
   "execution_count": 11,
   "id": "8748c463",
   "metadata": {},
   "outputs": [],
   "source": [
    "##CLEANING DATA\n",
    "import regex as re   #lib for string data\n",
    "\n",
    "def cleanTxt(text):\n",
    "    text=re.sub('@[A-Za-z0-9]+','',text)    #removing mentions\n",
    "    text=re.sub(\"#\",\"\",text)    #removing #\n",
    "    text=re.sub(\"RT[\\s]+\",'',text)   #removing retweets\n",
    "    text=re.sub('https?:\\/\\/\\S+','',text)    #remove links\n",
    "    return text"
   ]
  },
  {
   "cell_type": "code",
   "execution_count": 13,
   "id": "f3be39a3",
   "metadata": {},
   "outputs": [],
   "source": [
    "df['Tweets']=df['Tweets'].apply(cleanTxt)"
   ]
  },
  {
   "cell_type": "code",
   "execution_count": 14,
   "id": "479b3289",
   "metadata": {},
   "outputs": [
    {
     "data": {
      "text/html": [
       "<div>\n",
       "<style scoped>\n",
       "    .dataframe tbody tr th:only-of-type {\n",
       "        vertical-align: middle;\n",
       "    }\n",
       "\n",
       "    .dataframe tbody tr th {\n",
       "        vertical-align: top;\n",
       "    }\n",
       "\n",
       "    .dataframe thead th {\n",
       "        text-align: right;\n",
       "    }\n",
       "</style>\n",
       "<table border=\"1\" class=\"dataframe\">\n",
       "  <thead>\n",
       "    <tr style=\"text-align: right;\">\n",
       "      <th></th>\n",
       "      <th>Tweets</th>\n",
       "    </tr>\n",
       "  </thead>\n",
       "  <tbody>\n",
       "    <tr>\n",
       "      <th>0</th>\n",
       "      <td>Here's a recap of some exciting happenings at ...</td>\n",
       "    </tr>\n",
       "    <tr>\n",
       "      <th>1</th>\n",
       "      <td>Our number 1 ranking in the KantarBrandz Top 7...</td>\n",
       "    </tr>\n",
       "    <tr>\n",
       "      <th>2</th>\n",
       "      <td>Sustainability is now at the heart of business...</td>\n",
       "    </tr>\n",
       "    <tr>\n",
       "      <th>3</th>\n",
       "      <td>“The new future-ready digital platform built b...</td>\n",
       "    </tr>\n",
       "    <tr>\n",
       "      <th>4</th>\n",
       "      <td>As operators in emerging economies face signif...</td>\n",
       "    </tr>\n",
       "    <tr>\n",
       "      <th>...</th>\n",
       "      <td>...</td>\n",
       "    </tr>\n",
       "    <tr>\n",
       "      <th>95</th>\n",
       "      <td>Download links for TCSQ1 FY 23:\\nIFRS (USD): \\...</td>\n",
       "    </tr>\n",
       "    <tr>\n",
       "      <th>96</th>\n",
       "      <td>Won two  Partner of the Year 2021 awards in th...</td>\n",
       "    </tr>\n",
       "    <tr>\n",
       "      <th>97</th>\n",
       "      <td>Won three 2022  Partner of the Year awards in ...</td>\n",
       "    </tr>\n",
       "    <tr>\n",
       "      <th>98</th>\n",
       "      <td>Recognized as the Information Technology Secto...</td>\n",
       "    </tr>\n",
       "    <tr>\n",
       "      <th>99</th>\n",
       "      <td>Named as one of the top 50 community-minded co...</td>\n",
       "    </tr>\n",
       "  </tbody>\n",
       "</table>\n",
       "<p>100 rows × 1 columns</p>\n",
       "</div>"
      ],
      "text/plain": [
       "                                               Tweets\n",
       "0   Here's a recap of some exciting happenings at ...\n",
       "1   Our number 1 ranking in the KantarBrandz Top 7...\n",
       "2   Sustainability is now at the heart of business...\n",
       "3   “The new future-ready digital platform built b...\n",
       "4   As operators in emerging economies face signif...\n",
       "..                                                ...\n",
       "95  Download links for TCSQ1 FY 23:\\nIFRS (USD): \\...\n",
       "96  Won two  Partner of the Year 2021 awards in th...\n",
       "97  Won three 2022  Partner of the Year awards in ...\n",
       "98  Recognized as the Information Technology Secto...\n",
       "99  Named as one of the top 50 community-minded co...\n",
       "\n",
       "[100 rows x 1 columns]"
      ]
     },
     "execution_count": 14,
     "metadata": {},
     "output_type": "execute_result"
    }
   ],
   "source": [
    "df"
   ]
  },
  {
   "cell_type": "code",
   "execution_count": 15,
   "id": "7e77ccda",
   "metadata": {},
   "outputs": [],
   "source": [
    "analysis=TextBlob(\"hey i love weather\")"
   ]
  },
  {
   "cell_type": "code",
   "execution_count": 16,
   "id": "47eb2cc9",
   "metadata": {},
   "outputs": [
    {
     "data": {
      "text/plain": [
       "Sentiment(polarity=0.5, subjectivity=0.6)"
      ]
     },
     "execution_count": 16,
     "metadata": {},
     "output_type": "execute_result"
    }
   ],
   "source": [
    "analysis.sentiment"
   ]
  },
  {
   "cell_type": "code",
   "execution_count": 17,
   "id": "e41aade8",
   "metadata": {},
   "outputs": [],
   "source": [
    "def getPolarity(text):\n",
    "    return TextBlob(text).sentiment.polarity\n",
    "\n",
    "def getsubjectivity(text):\n",
    "    return TextBlob(text).sentiment.subjectivity"
   ]
  },
  {
   "cell_type": "code",
   "execution_count": 18,
   "id": "995d52ca",
   "metadata": {},
   "outputs": [],
   "source": [
    "df['Subjectivity']=df['Tweets'].apply(getsubjectivity)\n",
    "df['Polarity']=df['Tweets'].apply(getPolarity)"
   ]
  },
  {
   "cell_type": "code",
   "execution_count": 19,
   "id": "3d8343fc",
   "metadata": {},
   "outputs": [
    {
     "data": {
      "text/html": [
       "<div>\n",
       "<style scoped>\n",
       "    .dataframe tbody tr th:only-of-type {\n",
       "        vertical-align: middle;\n",
       "    }\n",
       "\n",
       "    .dataframe tbody tr th {\n",
       "        vertical-align: top;\n",
       "    }\n",
       "\n",
       "    .dataframe thead th {\n",
       "        text-align: right;\n",
       "    }\n",
       "</style>\n",
       "<table border=\"1\" class=\"dataframe\">\n",
       "  <thead>\n",
       "    <tr style=\"text-align: right;\">\n",
       "      <th></th>\n",
       "      <th>Tweets</th>\n",
       "      <th>Subjectivity</th>\n",
       "      <th>Polarity</th>\n",
       "    </tr>\n",
       "  </thead>\n",
       "  <tbody>\n",
       "    <tr>\n",
       "      <th>0</th>\n",
       "      <td>Here's a recap of some exciting happenings at ...</td>\n",
       "      <td>0.650000</td>\n",
       "      <td>0.437500</td>\n",
       "    </tr>\n",
       "    <tr>\n",
       "      <th>1</th>\n",
       "      <td>Our number 1 ranking in the KantarBrandz Top 7...</td>\n",
       "      <td>0.633333</td>\n",
       "      <td>0.666667</td>\n",
       "    </tr>\n",
       "    <tr>\n",
       "      <th>2</th>\n",
       "      <td>Sustainability is now at the heart of business...</td>\n",
       "      <td>0.533333</td>\n",
       "      <td>0.016667</td>\n",
       "    </tr>\n",
       "    <tr>\n",
       "      <th>3</th>\n",
       "      <td>“The new future-ready digital platform built b...</td>\n",
       "      <td>0.338636</td>\n",
       "      <td>0.209091</td>\n",
       "    </tr>\n",
       "    <tr>\n",
       "      <th>4</th>\n",
       "      <td>As operators in emerging economies face signif...</td>\n",
       "      <td>0.875000</td>\n",
       "      <td>0.375000</td>\n",
       "    </tr>\n",
       "    <tr>\n",
       "      <th>...</th>\n",
       "      <td>...</td>\n",
       "      <td>...</td>\n",
       "      <td>...</td>\n",
       "    </tr>\n",
       "    <tr>\n",
       "      <th>95</th>\n",
       "      <td>Download links for TCSQ1 FY 23:\\nIFRS (USD): \\...</td>\n",
       "      <td>0.000000</td>\n",
       "      <td>0.000000</td>\n",
       "    </tr>\n",
       "    <tr>\n",
       "      <th>96</th>\n",
       "      <td>Won two  Partner of the Year 2021 awards in th...</td>\n",
       "      <td>0.000000</td>\n",
       "      <td>0.000000</td>\n",
       "    </tr>\n",
       "    <tr>\n",
       "      <th>97</th>\n",
       "      <td>Won three 2022  Partner of the Year awards in ...</td>\n",
       "      <td>0.000000</td>\n",
       "      <td>0.000000</td>\n",
       "    </tr>\n",
       "    <tr>\n",
       "      <th>98</th>\n",
       "      <td>Recognized as the Information Technology Secto...</td>\n",
       "      <td>0.000000</td>\n",
       "      <td>0.000000</td>\n",
       "    </tr>\n",
       "    <tr>\n",
       "      <th>99</th>\n",
       "      <td>Named as one of the top 50 community-minded co...</td>\n",
       "      <td>0.500000</td>\n",
       "      <td>0.500000</td>\n",
       "    </tr>\n",
       "  </tbody>\n",
       "</table>\n",
       "<p>100 rows × 3 columns</p>\n",
       "</div>"
      ],
      "text/plain": [
       "                                               Tweets  Subjectivity  Polarity\n",
       "0   Here's a recap of some exciting happenings at ...      0.650000  0.437500\n",
       "1   Our number 1 ranking in the KantarBrandz Top 7...      0.633333  0.666667\n",
       "2   Sustainability is now at the heart of business...      0.533333  0.016667\n",
       "3   “The new future-ready digital platform built b...      0.338636  0.209091\n",
       "4   As operators in emerging economies face signif...      0.875000  0.375000\n",
       "..                                                ...           ...       ...\n",
       "95  Download links for TCSQ1 FY 23:\\nIFRS (USD): \\...      0.000000  0.000000\n",
       "96  Won two  Partner of the Year 2021 awards in th...      0.000000  0.000000\n",
       "97  Won three 2022  Partner of the Year awards in ...      0.000000  0.000000\n",
       "98  Recognized as the Information Technology Secto...      0.000000  0.000000\n",
       "99  Named as one of the top 50 community-minded co...      0.500000  0.500000\n",
       "\n",
       "[100 rows x 3 columns]"
      ]
     },
     "execution_count": 19,
     "metadata": {},
     "output_type": "execute_result"
    }
   ],
   "source": [
    "df"
   ]
  },
  {
   "cell_type": "code",
   "execution_count": 22,
   "id": "21f2a096",
   "metadata": {},
   "outputs": [
    {
     "data": {
      "image/png": "[encoded data removed]",
      "text/plain": [
       "<Figure size 432x288 with 1 Axes>"
      ]
     },
     "metadata": {
      "needs_background": "light"
     },
     "output_type": "display_data"
    }
   ],
   "source": [
    "#Word cloud Visualisation\n",
    "\n",
    "allwords=' '.join([i for i in df['Tweets']])\n",
    "cloud=WordCloud(width=500,height=400,random_state=0,max_font_size=100).generate(allwords)\n",
    "\n",
    "plt.imshow(cloud)\n",
    "plt.show()"
   ]
  },
  {
   "cell_type": "code",
   "execution_count": 23,
   "id": "d36b8d1e",
   "metadata": {},
   "outputs": [],
   "source": [
    "#Function to compute =,- or neutral\n",
    "\n",
    "def getAnalysis(score):\n",
    "    if score<0:\n",
    "        return \"Negative\"\n",
    "    elif score>0:\n",
    "        return \"Positive\"\n",
    "    else:\n",
    "        return \"Neutral\"\n",
    "    \n",
    "    \n",
    "    \n",
    "df['Analysis']=df['Polarity'].apply(getAnalysis)"
   ]
  },
  {
   "cell_type": "code",
   "execution_count": 24,
   "id": "690f7cee",
   "metadata": {},
   "outputs": [
    {
     "data": {
      "text/html": [
       "<div>\n",
       "<style scoped>\n",
       "    .dataframe tbody tr th:only-of-type {\n",
       "        vertical-align: middle;\n",
       "    }\n",
       "\n",
       "    .dataframe tbody tr th {\n",
       "        vertical-align: top;\n",
       "    }\n",
       "\n",
       "    .dataframe thead th {\n",
       "        text-align: right;\n",
       "    }\n",
       "</style>\n",
       "<table border=\"1\" class=\"dataframe\">\n",
       "  <thead>\n",
       "    <tr style=\"text-align: right;\">\n",
       "      <th></th>\n",
       "      <th>Tweets</th>\n",
       "      <th>Subjectivity</th>\n",
       "      <th>Polarity</th>\n",
       "      <th>Analysis</th>\n",
       "    </tr>\n",
       "  </thead>\n",
       "  <tbody>\n",
       "    <tr>\n",
       "      <th>0</th>\n",
       "      <td>Here's a recap of some exciting happenings at ...</td>\n",
       "      <td>0.650000</td>\n",
       "      <td>0.437500</td>\n",
       "      <td>Positive</td>\n",
       "    </tr>\n",
       "    <tr>\n",
       "      <th>1</th>\n",
       "      <td>Our number 1 ranking in the KantarBrandz Top 7...</td>\n",
       "      <td>0.633333</td>\n",
       "      <td>0.666667</td>\n",
       "      <td>Positive</td>\n",
       "    </tr>\n",
       "    <tr>\n",
       "      <th>2</th>\n",
       "      <td>Sustainability is now at the heart of business...</td>\n",
       "      <td>0.533333</td>\n",
       "      <td>0.016667</td>\n",
       "      <td>Positive</td>\n",
       "    </tr>\n",
       "    <tr>\n",
       "      <th>3</th>\n",
       "      <td>“The new future-ready digital platform built b...</td>\n",
       "      <td>0.338636</td>\n",
       "      <td>0.209091</td>\n",
       "      <td>Positive</td>\n",
       "    </tr>\n",
       "    <tr>\n",
       "      <th>4</th>\n",
       "      <td>As operators in emerging economies face signif...</td>\n",
       "      <td>0.875000</td>\n",
       "      <td>0.375000</td>\n",
       "      <td>Positive</td>\n",
       "    </tr>\n",
       "    <tr>\n",
       "      <th>...</th>\n",
       "      <td>...</td>\n",
       "      <td>...</td>\n",
       "      <td>...</td>\n",
       "      <td>...</td>\n",
       "    </tr>\n",
       "    <tr>\n",
       "      <th>95</th>\n",
       "      <td>Download links for TCSQ1 FY 23:\\nIFRS (USD): \\...</td>\n",
       "      <td>0.000000</td>\n",
       "      <td>0.000000</td>\n",
       "      <td>Neutral</td>\n",
       "    </tr>\n",
       "    <tr>\n",
       "      <th>96</th>\n",
       "      <td>Won two  Partner of the Year 2021 awards in th...</td>\n",
       "      <td>0.000000</td>\n",
       "      <td>0.000000</td>\n",
       "      <td>Neutral</td>\n",
       "    </tr>\n",
       "    <tr>\n",
       "      <th>97</th>\n",
       "      <td>Won three 2022  Partner of the Year awards in ...</td>\n",
       "      <td>0.000000</td>\n",
       "      <td>0.000000</td>\n",
       "      <td>Neutral</td>\n",
       "    </tr>\n",
       "    <tr>\n",
       "      <th>98</th>\n",
       "      <td>Recognized as the Information Technology Secto...</td>\n",
       "      <td>0.000000</td>\n",
       "      <td>0.000000</td>\n",
       "      <td>Neutral</td>\n",
       "    </tr>\n",
       "    <tr>\n",
       "      <th>99</th>\n",
       "      <td>Named as one of the top 50 community-minded co...</td>\n",
       "      <td>0.500000</td>\n",
       "      <td>0.500000</td>\n",
       "      <td>Positive</td>\n",
       "    </tr>\n",
       "  </tbody>\n",
       "</table>\n",
       "<p>100 rows × 4 columns</p>\n",
       "</div>"
      ],
      "text/plain": [
       "                                               Tweets  Subjectivity  Polarity  \\\n",
       "0   Here's a recap of some exciting happenings at ...      0.650000  0.437500   \n",
       "1   Our number 1 ranking in the KantarBrandz Top 7...      0.633333  0.666667   \n",
       "2   Sustainability is now at the heart of business...      0.533333  0.016667   \n",
       "3   “The new future-ready digital platform built b...      0.338636  0.209091   \n",
       "4   As operators in emerging economies face signif...      0.875000  0.375000   \n",
       "..                                                ...           ...       ...   \n",
       "95  Download links for TCSQ1 FY 23:\\nIFRS (USD): \\...      0.000000  0.000000   \n",
       "96  Won two  Partner of the Year 2021 awards in th...      0.000000  0.000000   \n",
       "97  Won three 2022  Partner of the Year awards in ...      0.000000  0.000000   \n",
       "98  Recognized as the Information Technology Secto...      0.000000  0.000000   \n",
       "99  Named as one of the top 50 community-minded co...      0.500000  0.500000   \n",
       "\n",
       "    Analysis  \n",
       "0   Positive  \n",
       "1   Positive  \n",
       "2   Positive  \n",
       "3   Positive  \n",
       "4   Positive  \n",
       "..       ...  \n",
       "95   Neutral  \n",
       "96   Neutral  \n",
       "97   Neutral  \n",
       "98   Neutral  \n",
       "99  Positive  \n",
       "\n",
       "[100 rows x 4 columns]"
      ]
     },
     "execution_count": 24,
     "metadata": {},
     "output_type": "execute_result"
    }
   ],
   "source": [
    "df"
   ]
  },
  {
   "cell_type": "code",
   "execution_count": 25,
   "id": "40bfa798",
   "metadata": {},
   "outputs": [
    {
     "data": {
      "text/plain": [
       "Positive    64\n",
       "Neutral     31\n",
       "Negative     5\n",
       "Name: Analysis, dtype: int64"
      ]
     },
     "execution_count": 25,
     "metadata": {},
     "output_type": "execute_result"
    }
   ],
   "source": [
    "df['Analysis'].value_counts()"
   ]
  },
  {
   "cell_type": "code",
   "execution_count": 33,
   "id": "aa899cac",
   "metadata": {},
   "outputs": [
    {
     "data": {
      "image/png": "[encoded data removed]",
      "text/plain": [
       "<Figure size 432x288 with 1 Axes>"
      ]
     },
     "metadata": {},
     "output_type": "display_data"
    }
   ],
   "source": [
    "# Plotting Scatter Plot\n",
    "plt.figure\n",
    "for i in range(0,df.shape[0]):\n",
    "    plt.scatter(df['Polarity'][i],df[\"Subjectivity\"][i],color='green')\n",
    "    \n",
    "\n",
    "plt.title(\"Sentiment analysis\")\n",
    "plt.xlabel('Polarity')\n",
    "plt.ylabel(\"Subjectivity\")\n",
    "plt.show()"
   ]
  },
  {
   "cell_type": "code",
   "execution_count": 30,
   "id": "b2497576",
   "metadata": {},
   "outputs": [
    {
     "data": {
      "image/png": "[encoded data removed]",
      "text/plain": [
       "<Figure size 432x288 with 1 Axes>"
      ]
     },
     "metadata": {
      "needs_background": "light"
     },
     "output_type": "display_data"
    }
   ],
   "source": [
    "df['Analysis'].value_counts().plot(kind='bar')\n",
    "plt.show()"
   ]
  },
  {
   "cell_type": "code",
   "execution_count": null,
   "id": "d843ac54",
   "metadata": {},
   "outputs": [],
   "source": []
  }
 ],
 "metadata": {
  "kernelspec": {
   "display_name": "Python 3 (ipykernel)",
   "language": "python",
   "name": "python3"
  },
  "language_info": {
   "codemirror_mode": {
    "name": "ipython",
    "version": 3
   },
   "file_extension": ".py",
   "mimetype": "text/x-python",
   "name": "python",
   "nbconvert_exporter": "python",
   "pygments_lexer": "ipython3",
   "version": "3.9.12"
  }
 },
 "nbformat": 4,
 "nbformat_minor": 5
}
